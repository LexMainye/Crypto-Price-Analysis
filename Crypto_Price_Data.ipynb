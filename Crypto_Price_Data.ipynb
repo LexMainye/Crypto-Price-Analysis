{
  "nbformat": 4,
  "nbformat_minor": 0,
  "metadata": {
    "colab": {
      "provenance": [],
      "authorship_tag": "ABX9TyMeLArCRtkG4wYifpI25nkf",
      "include_colab_link": true
    },
    "kernelspec": {
      "name": "python3",
      "display_name": "Python 3"
    },
    "language_info": {
      "name": "python"
    }
  },
  "cells": [
    {
      "cell_type": "markdown",
      "metadata": {
        "id": "view-in-github",
        "colab_type": "text"
      },
      "source": [
        "<a href=\"https://colab.research.google.com/github/LexMainye/Crypto-Price-Analysis/blob/main/Crypto_Price_Data.ipynb\" target=\"_parent\"><img src=\"https://colab.research.google.com/assets/colab-badge.svg\" alt=\"Open In Colab\"/></a>"
      ]
    },
    {
      "cell_type": "code",
      "source": [
        "import os\n",
        "from datetime import datetime, timedelta\n",
        "from google.colab import drive\n",
        "import yfinance as yf\n",
        "import numpy as np"
      ],
      "metadata": {
        "id": "Dg_R3fCtBHjU"
      },
      "execution_count": null,
      "outputs": []
    },
    {
      "cell_type": "code",
      "source": [
        "# Mount Google Drive\n",
        "drive.mount('/content/drive')"
      ],
      "metadata": {
        "colab": {
          "base_uri": "https://localhost:8080/"
        },
        "id": "vKezdcnmuHTu",
        "outputId": "541c61f0-e59f-4807-b272-d75952e3cfbb"
      },
      "execution_count": null,
      "outputs": [
        {
          "output_type": "stream",
          "name": "stdout",
          "text": [
            "Mounted at /content/drive\n"
          ]
        }
      ]
    },
    {
      "cell_type": "code",
      "source": [
        "# Create directory structure\n",
        "base_path = '/content/drive/MyDrive/crypto_kes_5year_project'\n",
        "plots_folder = os.path.join(base_path, '5year_plots')\n",
        "data_folder = os.path.join(base_path, '5year_data')\n",
        "# Create folders if they don't exist\n",
        "os.makedirs(plots_folder, exist_ok=True)\n",
        "os.makedirs(data_folder, exist_ok=True)\n",
        "\n",
        "print(f\"Created directories at:\\n- {plots_folder}\\n- {data_folder}\")\n"
      ],
      "metadata": {
        "colab": {
          "base_uri": "https://localhost:8080/"
        },
        "id": "GPM88dEaICIj",
        "outputId": "ef6f2fab-67b9-4c56-e224-8af2ee7b038a"
      },
      "execution_count": null,
      "outputs": [
        {
          "output_type": "stream",
          "name": "stdout",
          "text": [
            "Created directories at:\n",
            "- /content/drive/MyDrive/crypto_kes_5year_project/5year_plots\n",
            "- /content/drive/MyDrive/crypto_kes_5year_project/5year_data\n"
          ]
        }
      ]
    },
    {
      "cell_type": "code",
      "source": [
        "# Create directory if it doesn't exist\n",
        "data_path = '/content/drive/MyDrive/crypto_kes_5year_project/5year_data'\n",
        "print(f\"Data will be saved to: {data_path}\")"
      ],
      "metadata": {
        "colab": {
          "base_uri": "https://localhost:8080/"
        },
        "id": "elMbmP0vPFgH",
        "outputId": "6104e694-61e4-43cc-d21f-114be6b7b121"
      },
      "execution_count": null,
      "outputs": [
        {
          "output_type": "stream",
          "name": "stdout",
          "text": [
            "Data will be saved to: /content/drive/MyDrive/crypto_kes_5year_project/5year_data\n"
          ]
        }
      ]
    },
    {
      "cell_type": "code",
      "source": [
        "# Define the cryptocurrencies to fetch\n",
        "crypto_tickers = {\n",
        "    'BTC': 'BTC-USD',  # Bitcoin\n",
        "    'ETH': 'ETH-USD',  # Ethereum\n",
        "    'SHIB': 'SHIB-USD', # Shiba Inu\n",
        "    'ADA': 'ADA-USD',  # Cardano\n",
        "    'XRP': 'XRP-USD'   # Ripple\n",
        "}\n",
        "\n",
        "# Calculate date range for 5 years\n",
        "end_date = datetime.now()\n",
        "start_date = end_date - timedelta(days=5*365)\n",
        "\n",
        "# Format dates as strings for yfinance\n",
        "start_date_str = start_date.strftime('%Y-%m-%d')\n",
        "end_date_str = end_date.strftime('%Y-%m-%d')\n",
        "\n",
        "def get_crypto_data(tickers_dict, start_date, end_date):\n",
        "    results = {}\n",
        "    print(\"\\nFetching 5-year historical cryptocurrency data from Yahoo Finance...\")\n",
        "\n",
        "    for crypto_name, ticker in tickers_dict.items():\n",
        "        print(f\"\\nFetching data for {crypto_name} ({ticker})...\")\n",
        "        try:\n",
        "            # Get complete OHLCV data\n",
        "            data = yf.download(\n",
        "                ticker,\n",
        "                start=start_date,\n",
        "                end=end_date,\n",
        "                progress=False\n",
        "            )\n",
        "\n",
        "            if not data.empty:\n",
        "                results[crypto_name] = data\n",
        "                print(f\"Successfully fetched {len(data)} days of data for {crypto_name}\")\n",
        "            else:\n",
        "                print(f\"No data returned for {crypto_name}\")\n",
        "\n",
        "        except Exception as e:\n",
        "            print(f\"Error fetching data for {crypto_name}: {str(e)}\")\n",
        "\n",
        "    return results\n",
        "\n",
        "# Fetch all cryptocurrency data\n",
        "historical_data = get_crypto_data(crypto_tickers, start_date_str, end_date_str)\n",
        "\n",
        "# Save each cryptocurrency's data separately\n",
        "print(\"\\nSaving data for each cryptocurrency:\")\n",
        "for crypto_name, data in historical_data.items():\n",
        "    if not data.empty:\n",
        "        # Create filename (e.g. btc_5year_daily_data.csv)\n",
        "        filename = f\"{crypto_name.lower()}_5year_daily_data.csv\"\n",
        "        filepath = os.path.join(data_path, filename)\n",
        "\n",
        "        # Save complete OHLCV data\n",
        "        data.to_csv(filepath)\n",
        "        print(f\"Saved {crypto_name} data to {filename}\")\n",
        "\n",
        "        # Save monthly resampled data\n",
        "        monthly_data = data.resample('M').last()\n",
        "        monthly_filename = f\"{crypto_name.lower()}_5year_monthly_data.csv\"\n",
        "        monthly_filepath = os.path.join(data_path, monthly_filename)\n",
        "        monthly_data.to_csv(monthly_filepath)\n",
        "        print(f\"Saved {crypto_name} monthly data to {monthly_filename}\")\n",
        "\n",
        "# Save combined close prices\n",
        "if historical_data:\n",
        "    combined_close = pd.DataFrame()\n",
        "    for crypto_name, data in historical_data.items():\n",
        "        if not data.empty:\n",
        "            combined_close[crypto_name] = data['Close']\n",
        "\n",
        "    combined_filename = \"all_cryptos_5year_close_prices.csv\"\n",
        "    combined_filepath = os.path.join(data_path, combined_filename)\n",
        "    combined_close.to_csv(combined_filepath)\n",
        "    print(f\"\\nSaved combined close prices to {combined_filename}\")\n",
        "\n",
        "print(\"\\nData saving complete! All files saved to:\", data_path)"
      ],
      "metadata": {
        "colab": {
          "base_uri": "https://localhost:8080/"
        },
        "id": "1GDAKXL0Euav",
        "outputId": "da88c515-1325-43b9-e656-8f9f18e0b488"
      },
      "execution_count": null,
      "outputs": [
        {
          "output_type": "stream",
          "name": "stdout",
          "text": [
            "\n",
            "Fetching 5-year historical cryptocurrency data from Yahoo Finance...\n",
            "\n",
            "Fetching data for BTC (BTC-USD)...\n",
            "Successfully fetched 1825 days of data for BTC\n",
            "\n",
            "Fetching data for ETH (ETH-USD)...\n",
            "Successfully fetched 1825 days of data for ETH\n",
            "\n",
            "Fetching data for SHIB (SHIB-USD)...\n",
            "Successfully fetched 1663 days of data for SHIB\n",
            "\n",
            "Fetching data for ADA (ADA-USD)...\n",
            "Successfully fetched 1825 days of data for ADA\n",
            "\n",
            "Fetching data for XRP (XRP-USD)...\n",
            "Successfully fetched 1825 days of data for XRP\n",
            "\n",
            "Saving data for each cryptocurrency:\n",
            "Saved BTC data to btc_5year_daily_data.csv\n",
            "Saved BTC monthly data to btc_5year_monthly_data.csv\n",
            "Saved ETH data to eth_5year_daily_data.csv\n",
            "Saved ETH monthly data to eth_5year_monthly_data.csv\n",
            "Saved SHIB data to shib_5year_daily_data.csv\n",
            "Saved SHIB monthly data to shib_5year_monthly_data.csv\n"
          ]
        },
        {
          "output_type": "stream",
          "name": "stderr",
          "text": [
            "<ipython-input-10-8636ce4cc641>:60: FutureWarning: 'M' is deprecated and will be removed in a future version, please use 'ME' instead.\n",
            "  monthly_data = data.resample('M').last()\n",
            "<ipython-input-10-8636ce4cc641>:60: FutureWarning: 'M' is deprecated and will be removed in a future version, please use 'ME' instead.\n",
            "  monthly_data = data.resample('M').last()\n",
            "<ipython-input-10-8636ce4cc641>:60: FutureWarning: 'M' is deprecated and will be removed in a future version, please use 'ME' instead.\n",
            "  monthly_data = data.resample('M').last()\n",
            "<ipython-input-10-8636ce4cc641>:60: FutureWarning: 'M' is deprecated and will be removed in a future version, please use 'ME' instead.\n",
            "  monthly_data = data.resample('M').last()\n"
          ]
        },
        {
          "output_type": "stream",
          "name": "stdout",
          "text": [
            "Saved ADA data to ada_5year_daily_data.csv\n",
            "Saved ADA monthly data to ada_5year_monthly_data.csv\n",
            "Saved XRP data to xrp_5year_daily_data.csv\n",
            "Saved XRP monthly data to xrp_5year_monthly_data.csv\n",
            "\n",
            "Saved combined close prices to all_cryptos_5year_close_prices.csv\n",
            "\n",
            "Data saving complete! All files saved to: /content/drive/MyDrive/crypto_kes_5year_project/5year_data\n"
          ]
        },
        {
          "output_type": "stream",
          "name": "stderr",
          "text": [
            "<ipython-input-10-8636ce4cc641>:60: FutureWarning: 'M' is deprecated and will be removed in a future version, please use 'ME' instead.\n",
            "  monthly_data = data.resample('M').last()\n"
          ]
        }
      ]
    }
  ]
}